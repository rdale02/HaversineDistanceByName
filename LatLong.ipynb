{
  "nbformat": 4,
  "nbformat_minor": 0,
  "metadata": {
    "colab": {
      "name": "LatLong.ipynb",
      "provenance": [],
      "authorship_tag": "ABX9TyPPbTAiJe5i97jFW2GgJGcL",
      "include_colab_link": true
    },
    "kernelspec": {
      "name": "python3",
      "display_name": "Python 3"
    },
    "language_info": {
      "name": "python"
    }
  },
  "cells": [
    {
      "cell_type": "markdown",
      "metadata": {
        "id": "view-in-github",
        "colab_type": "text"
      },
      "source": [
        "<a href=\"https://colab.research.google.com/github/rdale02/HaversineDistanceByName/blob/main/LatLong.ipynb\" target=\"_parent\"><img src=\"https://colab.research.google.com/assets/colab-badge.svg\" alt=\"Open In Colab\"/></a>"
      ]
    },
    {
      "cell_type": "code",
      "metadata": {
        "id": "uVawMYaVksUr"
      },
      "source": [
        "import pandas as pd\n",
        "df = pd.read_csv(\"/content/PaymentDataWithDistances.csv\",delimiter=',', low_memory=False,encoding='latin-1')"
      ],
      "execution_count": null,
      "outputs": []
    },
    {
      "cell_type": "code",
      "metadata": {
        "id": "HooIuB1P2nfa"
      },
      "source": [
        "from geopy.geocoders import Nominatim\n",
        "from math import sin, cos, sqrt, atan2, radians, trunc\n",
        "getHaversine(getLongitude(\"Sao Paulo\"),\n",
        "getLongitude(\"New York\"),\n",
        "getLatitude(\"Sao Paulo\"),\n",
        "getLatitude(\"New York\"))"
      ],
      "execution_count": null,
      "outputs": []
    },
    {
      "cell_type": "code",
      "metadata": {
        "id": "OJe7B5h781Bp"
      },
      "source": [
        "def getLongitude(city):\n",
        "  geolocator = Nominatim(user_agent=\"Coffee Co\")\n",
        "  location = geolocator.geocode(city)\n",
        "  return location.longitude"
      ],
      "execution_count": null,
      "outputs": []
    },
    {
      "cell_type": "code",
      "metadata": {
        "id": "fphuHTHBxr1E"
      },
      "source": [
        "def getLatitude(city):\n",
        "  geolocator = Nominatim(user_agent=\"Coffee Co\")\n",
        "  location = geolocator.geocode(city)\n",
        "  return location.latitude"
      ],
      "execution_count": null,
      "outputs": []
    },
    {
      "cell_type": "code",
      "metadata": {
        "id": "ScSxrYsqRqul"
      },
      "source": [
        "def getHaversine(lon1, lon2,lat1,lat2):\n",
        "  #Definition of the Haversine Equation\n",
        "  dlon = radians(lon2) - radians(lon1)\n",
        "  dlat = radians(lat2) - radians(lat1)\n",
        "  a = abs(sin(dlat / 2)**2 + cos(lat1) * cos(lat2) * sin(dlon / 2)**2)\n",
        "  c = 2 * atan2(sqrt(a), sqrt(1 - a))\n",
        "  return 6373 * c"
      ],
      "execution_count": null,
      "outputs": []
    },
    {
      "cell_type": "code",
      "metadata": {
        "id": "AocWIDAVVIzS"
      },
      "source": [
        "#GET LATITUDE/LONGITUDE\n",
        "from geopy.geocoders import Nominatim\n",
        "geolocator = Nominatim(user_agent=\"RDALE\")\n",
        "for index, row in enumerate(df['<Dbtr><PstlAdr><TwnNm>']):\n",
        "   df['Dbtr_Lat'].iloc[index] = getLatitude(df['<Dbtr><PstlAdr><TwnNm>'].iloc[index])\n",
        "   df['Dbtr_Long'].iloc[index] = getLongitude(df['<Dbtr><PstlAdr><TwnNm>'].iloc[index])\n",
        "   print(getLongitude(df['<Dbtr><PstlAdr><TwnNm>'].iloc[index]))\n",
        "for index, row in enumerate(df['<Crdtr><PstlAdr><TwnNm>']):\n",
        "   df['Cdtr_Lat'].iloc[index] = getLatitude(df['<Crdtr><PstlAdr><TwnNm>'].iloc[index])\n",
        "   df['Cdtr_Long'].iloc[index] = getLongitude(df['<Crdtr><PstlAdr><TwnNm>'].iloc[index]) \n",
        "df.to_csv('PaymentDataWithDistances.csv')"
      ],
      "execution_count": null,
      "outputs": []
    },
    {
      "cell_type": "code",
      "metadata": {
        "id": "Wdy4rOUGvki-"
      },
      "source": [
        "#GET DISTANCE\n",
        "from math import sin, cos, sqrt, atan2, radians, trunc\n",
        "for index, row in enumerate(df['Distance']):\n",
        "  df['Distance'].loc[index] = trunc(getHaversine(df['Cdtr_Long'].loc[index],df['Dbtr_Long'].loc[index],df['Cdtr_Lat'].loc[index],df['Dbtr_Lat'].loc[index]))\n",
        "df.to_csv('PaymentDataWithDistances.csv')"
      ],
      "execution_count": null,
      "outputs": []
    },
    {
      "cell_type": "code",
      "metadata": {
        "id": "L2gkTPKkfai2"
      },
      "source": [
        "import pandas as pd\n",
        "#JOIN COUNTRIES TO THEIR SCORE\n",
        "df['Dbtr_Score'] = 0\n",
        "countries = pd.read_csv(\"/content/ESG_By_Country.csv\",delimiter=',', low_memory=False,encoding='latin-1')\n",
        "for index, row in enumerate(df['<Dbtr><PstlAdr><Ctry>'], start = 0):\n",
        "  for index1, row1 in enumerate(countries['Country']):\n",
        "    if(df['<Dbtr><PstlAdr><Ctry>'].iloc[index] == countries['Country'].iloc[index1]):\n",
        "      df['Dbtr_Score'].iloc[index] = countries['Country'].iloc[index1]\n",
        "  "
      ],
      "execution_count": null,
      "outputs": []
    },
    {
      "cell_type": "markdown",
      "metadata": {
        "id": "uvbHnHjDyMU2"
      },
      "source": [
        ""
      ]
    }
  ]
}